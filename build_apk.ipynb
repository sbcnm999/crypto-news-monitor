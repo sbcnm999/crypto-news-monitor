{
  "cells": [
    {
      "cell_type": "markdown",
      "metadata": {
        "id": "view-in-github"
      },
      "source": [
        "# Build Android APK for Crypto News Monitor\n",
        "\n",
        "This notebook will help you build an Android APK for the Crypto News Monitor app using Buildozer."
      ]
    },
    {
      "cell_type": "code",
      "execution_count": null,
      "metadata": {
        "id": "install_dependencies"
      },
      "source": [
        "!apt-get update\n",
        "!apt-get install -y git python3-pip build-essential git python3 python3-dev openjdk-17-jdk autoconf libtool pkg-config zlib1g-dev libncurses5-dev libncursesw5-dev libtinfo5 cmake\n",
        "!pip3 install buildozer\n",
        "!pip3 install cython==0.29.33"
      ],
      "outputs": []
    },
    {
      "cell_type": "code",
      "execution_count": null,
      "metadata": {
        "id": "clone_repo"
      },
      "source": [
        "!git clone https://github.com/sbcnm999/crypto-news-monitor.git\n",
        "%cd crypto-news-monitor/mobile_app_flet_new"
      ],
      "outputs": []
    },
    {
      "cell_type": "code",
      "execution_count": null,
      "metadata": {
        "id": "build_apk"
      },
      "source": [
        "!buildozer android debug"
      ],
      "outputs": []
    },
    {
      "cell_type": "code",
      "execution_count": null,
      "metadata": {
        "id": "download_apk"
      },
      "source": [
        "from google.colab import files\n",
        "files.download('bin/*.apk')"
      ],
      "outputs": []
    }
  ],
  "metadata": {
    "colab": {
      "name": "Build Crypto News Monitor APK",
      "private_outputs": true,
      "provenance": [],
      "toc_visible": true
    },
    "kernelspec": {
      "display_name": "Python 3",
      "name": "python3"
    }
  },
  "nbformat": 4,
  "nbformat_minor": 0
}
